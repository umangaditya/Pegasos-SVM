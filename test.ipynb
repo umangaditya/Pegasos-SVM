{
 "cells": [
  {
   "cell_type": "code",
   "execution_count": 13,
   "id": "584236f8",
   "metadata": {},
   "outputs": [
    {
     "name": "stdout",
     "output_type": "stream",
     "text": [
      "Loading train Dataset...\n",
      "Loading test Dataset...\n",
      "Classes:  [1 2]\n",
      "Preparing Dataset...\n",
      "Training Pegasos SVM...\n",
      "Pegasos Linear Classifier - accuracy 0.9785\n",
      "Time taken 0:00:00.390983\n"
     ]
    }
   ],
   "source": [
    "!python svm.py --dataset_dir data/fashion --iterations 10"
   ]
  },
  {
   "cell_type": "code",
   "execution_count": 2,
   "id": "b6223e5f",
   "metadata": {},
   "outputs": [
    {
     "name": "stdout",
     "output_type": "stream",
     "text": [
      "Loading train Dataset...\n",
      "Loading test Dataset...\n",
      "Classes:  [2 5]\n",
      "Preparing Dataset...\n",
      "Training Pegasos SVM...\n",
      "Pegasos Linear Classifier - accuracy 0.9925\n",
      "Time taken 0:00:00.390895\n"
     ]
    }
   ],
   "source": [
    "!python svm.py --dataset_dir data/fashion --iterations 10 --classes 2 5"
   ]
  },
  {
   "cell_type": "code",
   "execution_count": 3,
   "id": "8249a869",
   "metadata": {},
   "outputs": [
    {
     "name": "stdout",
     "output_type": "stream",
     "text": [
      "Loading train Dataset...\n",
      "Loading test Dataset...\n",
      "Classes:  [1 2]\n",
      "Preparing Dataset...\n",
      "Training Pegasos SVM...\n",
      "Accuracy for RBF SVM 0.99\n",
      "Time taken 0:02:10.896530\n"
     ]
    }
   ],
   "source": [
    "!python svm.py --dataset_dir data/fashion --iterations 10 --kernel 'rbf' "
   ]
  },
  {
   "cell_type": "code",
   "execution_count": 4,
   "id": "a456e21d",
   "metadata": {},
   "outputs": [
    {
     "name": "stdout",
     "output_type": "stream",
     "text": [
      "Loading train Dataset...\n",
      "Loading test Dataset...\n",
      "Classes:  [1 2]\n",
      "Preparing Dataset...\n",
      "Training Pegasos SVM...\n",
      "Accuracy for poly SVM 0.988\n",
      "Time taken 0:01:17.578799\n"
     ]
    }
   ],
   "source": [
    "!python svm.py --dataset_dir data/fashion --iterations 10 --kernel 'poly'"
   ]
  },
  {
   "cell_type": "code",
   "execution_count": 5,
   "id": "866ed833",
   "metadata": {},
   "outputs": [
    {
     "name": "stdout",
     "output_type": "stream",
     "text": [
      "Loading train Dataset...\n",
      "Loading test Dataset...\n",
      "Classes:  [1 2]\n",
      "Preparing Dataset...\n",
      "Training Pegasos SVM...\n",
      "Accuracy for sigmoid SVM 0.9685\n",
      "Time taken 0:01:43.030157\n"
     ]
    }
   ],
   "source": [
    "!python svm.py --dataset_dir data/fashion --iterations 10 --kernel 'sigmoid'"
   ]
  },
  {
   "cell_type": "code",
   "execution_count": null,
   "id": "a5962115",
   "metadata": {},
   "outputs": [],
   "source": []
  }
 ],
 "metadata": {
  "kernelspec": {
   "display_name": "pytorch_env",
   "language": "python",
   "name": "pytorch_env"
  },
  "language_info": {
   "codemirror_mode": {
    "name": "ipython",
    "version": 3
   },
   "file_extension": ".py",
   "mimetype": "text/x-python",
   "name": "python",
   "nbconvert_exporter": "python",
   "pygments_lexer": "ipython3",
   "version": "3.8.13"
  }
 },
 "nbformat": 4,
 "nbformat_minor": 5
}
